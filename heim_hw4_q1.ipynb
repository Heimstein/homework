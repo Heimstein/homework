{
 "cells": [
  {
   "cell_type": "code",
   "execution_count": 1,
   "metadata": {
    "collapsed": true
   },
   "outputs": [],
   "source": [
    "#import data into d\n",
    "import pandas as pd\n",
    "import csv\n",
    "with open('auto-mpg.data') as f:\n",
    "    reader = csv.reader(f,delimiter=\",\")\n",
    "    d = list(reader)\n",
    "    \n",
    "#DELETE ALL ROWS OF WHICH THE VALUE OF HORSEPOWER,WEIGHT,OR ACCELERATION IS UNKNOWN\n",
    "del(d[32])\n",
    "del(d[126-1])\n",
    "del(d[330-2])\n",
    "del(d[336-3])\n",
    "del(d[354-4])\n",
    "del(d[374-5])\n"
   ]
  },
  {
   "cell_type": "code",
   "execution_count": 2,
   "metadata": {
    "collapsed": true
   },
   "outputs": [],
   "source": [
    "#split data into test (20%) and traning (80%)\n",
    "from random import shuffle\n",
    "total=[]\n",
    "for x in range(0,len(d)):\n",
    "    #put all indeces into total\n",
    "    total.append(x)\n",
    "#shuffle all of the indices\n",
    "shuffle(total)\n",
    "train=[]\n",
    "for x in range(0,int(len(total)*0.8)):\n",
    "    #put first 80% of random indeces into train\n",
    "    train.append(total[x])\n",
    "test=[]\n",
    "for x in range(int(len(total)*0.8),len(total)):\n",
    "    #put last 20% of random indeces into test\n",
    "    test.append(total[x])"
   ]
  },
  {
   "cell_type": "markdown",
   "metadata": {},
   "source": [
    "Linear regression equation: $$y=\\beta_0+\\beta_1(horsepower)+\\beta_2(weight)+\\beta_3(acceleration)$$"
   ]
  },
  {
   "cell_type": "code",
   "execution_count": 3,
   "metadata": {
    "collapsed": true
   },
   "outputs": [],
   "source": [
    "import numpy as np\n",
    "H=np.zeros((len(train),4))\n",
    "z=np.zeros((len(train),1))\n",
    "for x in range(0,len(train)):\n",
    "    z[x][0]=(d[train[x]][0])\n",
    "    H[x][0]=1\n",
    "    H[x][1]=d[train[x]][3]\n",
    "    H[x][2]=d[train[x]][4]\n",
    "    H[x][3]=d[train[x]][5]\n",
    "x=np.linalg.lstsq(H,z)[0]\n",
    "#values of the betas\n",
    "first = x[0][0]\n",
    "second=x[1][0]\n",
    "third=x[2][0]\n",
    "fourth=x[3][0]"
   ]
  },
  {
   "cell_type": "code",
   "execution_count": 4,
   "metadata": {},
   "outputs": [
    {
     "name": "stdout",
     "output_type": "stream",
     "text": [
      "Solved linear regression equation: \n",
      "y= 44.9950756103 + -0.0497785932529 *(horsepower)+ -0.00560180167866 *(weight)+ 0.0186624070058 *(acceleration)\n"
     ]
    }
   ],
   "source": [
    "#PRINT SOLVED LINEAR REGRESSION\n",
    "print(\"Solved linear regression equation: \\ny=\",first,\"+\",second,\"*(horsepower)+\",\n",
    "      third,\"*(weight)+\",fourth,\"*(acceleration)\")"
   ]
  },
  {
   "cell_type": "code",
   "execution_count": 5,
   "metadata": {
    "collapsed": true
   },
   "outputs": [],
   "source": [
    "predict=[]\n",
    "actual=[]\n",
    "for x in range(0,len(test)):\n",
    "    predict.append((first)+(second*(float(d[test[x]][3])))+(third*float((d[test[x]][4]))+(fourth*float(d[test[x]][5]))))\n",
    "    actual.append(d[test[x]][0])"
   ]
  },
  {
   "cell_type": "code",
   "execution_count": 6,
   "metadata": {},
   "outputs": [
    {
     "name": "stdout",
     "output_type": "stream",
     "text": [
      "Sum of Squared errors:  1071.109417797276\n"
     ]
    }
   ],
   "source": [
    "#Calculated sum of squared errors\n",
    "sumOfSquares=0.0\n",
    "for x in range(0,len(actual)):\n",
    "    sumOfSquares+=(float(actual[x])-float(predict[x]))**2\n",
    "print(\"Sum of Squared errors: \",sumOfSquares)"
   ]
  },
  {
   "cell_type": "code",
   "execution_count": 7,
   "metadata": {
    "collapsed": true
   },
   "outputs": [],
   "source": [
    "#Sort values for graph\n",
    "for x in range(0,len(actual)):\n",
    "    smallest=x\n",
    "    for y in range(x,len(actual)):\n",
    "        if (actual[smallest]>actual[y]):\n",
    "            smallest=y\n",
    "    if (smallest !=x):\n",
    "        temp=actual[x]\n",
    "        actual[x]=actual[smallest]\n",
    "        actual[smallest]=temp\n",
    "        temp=predict[x]\n",
    "        predict[x]=predict[smallest]\n",
    "        predict[smallest]=temp"
   ]
  },
  {
   "cell_type": "code",
   "execution_count": 8,
   "metadata": {},
   "outputs": [
    {
     "data": {
      "image/png": "[encoded data removed]",
      "text/plain": [
       "<matplotlib.figure.Figure at 0x21886bb5518>"
      ]
     },
     "metadata": {},
     "output_type": "display_data"
    }
   ],
   "source": [
    "#print graph\n",
    "import matplotlib.pyplot as plt\n",
    "plt.plot(predict,label='Predicted values')\n",
    "plt.plot(actual,label='Actual values')\n",
    "plt.legend()\n",
    "plt.show()"
   ]
  }
 ],
 "metadata": {
  "kernelspec": {
   "display_name": "Python 3",
   "language": "python",
   "name": "python3"
  },
  "language_info": {
   "codemirror_mode": {
    "name": "ipython",
    "version": 3
   },
   "file_extension": ".py",
   "mimetype": "text/x-python",
   "name": "python",
   "nbconvert_exporter": "python",
   "pygments_lexer": "ipython3",
   "version": "3.6.3"
  }
 },
 "nbformat": 4,
 "nbformat_minor": 2
}
