{
 "cells": [
  {
   "cell_type": "code",
   "execution_count": 1,
   "metadata": {},
   "outputs": [],
   "source": [
    "import math\n",
    "def fastPower(base, exp, mod):\n",
    "    if exp == 0:\n",
    "        x = 1\n",
    "    else:\n",
    "        half = fastPower(base, exp // 2, mod)  # just / in Python 2\n",
    "        x = half * half\n",
    "        if exp % 2 == 1:\n",
    "            x *= base\n",
    "    return x % mod\n",
    "def is_prime(n):\n",
    "    for i in range(3, int(n**0.5)+1):\n",
    "        if n % i == 0:\n",
    "            return False\n",
    "    return True"
   ]
  },
  {
   "cell_type": "code",
   "execution_count": 6,
   "metadata": {},
   "outputs": [
    {
     "name": "stdout",
     "output_type": "stream",
     "text": [
      "33000000000000000000000000000000000000000000000000000000000000000000000000000000000000000000000035573\n"
     ]
    }
   ],
   "source": [
    "num=33000000000000000000000000000000000000000000000000000000000000000000000000000000000000000000000000000\n",
    "for x in range(0,100000):\n",
    "    if (fastPower(2,num+x-1,num+x)==1):\n",
    "        print(num+x)#number 1\n",
    "print(33000000000000000000000000000000000000000000000000000000000000000000000000000000000000000000000035573)"
   ]
  },
  {
   "cell_type": "code",
   "execution_count": 4,
   "metadata": {},
   "outputs": [
    {
     "name": "stdout",
     "output_type": "stream",
     "text": [
      "6923303486872121532692089537567957944055283322062419356584070491440930880026894796548796711607761334\n"
     ]
    }
   ],
   "source": [
    "print(fastPower(2,38+10**100,39+10**100))#number 2"
   ]
  },
  {
   "cell_type": "code",
   "execution_count": 5,
   "metadata": {},
   "outputs": [
    {
     "name": "stdout",
     "output_type": "stream",
     "text": [
      "10261\n",
      "10585\n"
     ]
    }
   ],
   "source": [
    "num=10000\n",
    "for x in range(0,600):\n",
    "    if (fastPower(2,num+x-1,num+x)==1 and is_prime(num+x)==False):\n",
    "        print(num+x)"
   ]
  }
 ],
 "metadata": {
  "kernelspec": {
   "display_name": "Python 3",
   "language": "python",
   "name": "python3"
  },
  "language_info": {
   "codemirror_mode": {
    "name": "ipython",
    "version": 3
   },
   "file_extension": ".py",
   "mimetype": "text/x-python",
   "name": "python",
   "nbconvert_exporter": "python",
   "pygments_lexer": "ipython3",
   "version": "3.6.3"
  }
 },
 "nbformat": 4,
 "nbformat_minor": 2
}
