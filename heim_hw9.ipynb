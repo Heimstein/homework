{
 "cells": [
  {
   "cell_type": "code",
   "execution_count": 1,
   "metadata": {
    "collapsed": true
   },
   "outputs": [],
   "source": [
    "classX=[1,0,0,0,1,0,0,1,1,1]\n",
    "x=[[0,0,1],[0,0,1],[0,1,1],[0,1,1],[1,0,1],[1,0,1],\n",
    "  [1,0,1],[0,0,0],[1,1,1],[1,0,1]]\n",
    "m=[.73,.69,.44,.55,.67,.47,.08,.15,.45,.35]"
   ]
  },
  {
   "cell_type": "code",
   "execution_count": 2,
   "metadata": {},
   "outputs": [
    {
     "name": "stdout",
     "output_type": "stream",
     "text": [
      "[0.47619047619047616, 0.47619047619047616, 0.39800995024875624, 0.39800995024875624, 0.56939501779359403, 0.56939501779359403, 0.56939501779359403, 0.5, 0.49023362696284961, 0.56939501779359403]\n"
     ]
    }
   ],
   "source": [
    "from sklearn.naive_bayes import MultinomialNB\n",
    "clf = MultinomialNB()\n",
    "clf.fit(x, classX)\n",
    "\n",
    "predictedValues=[]\n",
    "\n",
    "predictedValues.append(clf.predict_proba([[0,0,1]])[0][1])\n",
    "predictedValues.append(clf.predict_proba([[0,0,1]])[0][1])\n",
    "predictedValues.append(clf.predict_proba([[0,1,1]])[0][1])\n",
    "predictedValues.append(clf.predict_proba([[0,1,1]])[0][1])\n",
    "predictedValues.append(clf.predict_proba([[1,0,1]])[0][1])\n",
    "predictedValues.append(clf.predict_proba([[1,0,1]])[0][1])\n",
    "predictedValues.append(clf.predict_proba([[1,0,1]])[0][1])\n",
    "predictedValues.append(clf.predict_proba([[0,0,0]])[0][1])\n",
    "predictedValues.append(clf.predict_proba([[1,1,1]])[0][1])\n",
    "predictedValues.append(clf.predict_proba([[1,0,1]])[0][1])\n",
    "print(predictedValues)"
   ]
  },
  {
   "cell_type": "code",
   "execution_count": 3,
   "metadata": {},
   "outputs": [],
   "source": [
    "from sklearn import metrics\n",
    "fpr1, tpr1, thresholds1 = metrics.roc_curve(classX, predictedValues, pos_label=1)\n",
    "area1=metrics.auc(fpr1, tpr1)"
   ]
  },
  {
   "cell_type": "code",
   "execution_count": 4,
   "metadata": {},
   "outputs": [],
   "source": [
    "fpr2, tpr2, thresholds2 = metrics.roc_curve(classX, m, pos_label=1)\n",
    "area2=metrics.auc(fpr2, tpr2)"
   ]
  },
  {
   "cell_type": "code",
   "execution_count": 5,
   "metadata": {},
   "outputs": [
    {
     "data": {
      "image/png": "[encoded data removed]",
      "text/plain": [
       "<matplotlib.figure.Figure at 0x27080f6a080>"
      ]
     },
     "metadata": {},
     "output_type": "display_data"
    }
   ],
   "source": [
    "import matplotlib.pyplot as plt\n",
    "plt.figure()\n",
    "plt.plot(fpr1, tpr1, color='darkorange',\n",
    "         lw=3, label='Naive Bayes (AUC=%0.2f)'%area1)\n",
    "\n",
    "plt.plot(fpr2, tpr2, color='red',\n",
    "         lw=3, label='M (AUC=%0.2f)'%area2)\n",
    "\n",
    "plt.plot([0, 1], [0, 1], color='navy', lw=1, linestyle='--')\n",
    "plt.xlim([0.0, 1.0])\n",
    "plt.ylim([0.0, 1.05])\n",
    "plt.xlabel('False Positive Rate')\n",
    "plt.ylabel('True Positive Rate')\n",
    "plt.legend(loc=\"lower right\")\n",
    "plt.show()"
   ]
  },
  {
   "cell_type": "markdown",
   "metadata": {},
   "source": [
    "The best model is the naive bayes approach. It is the best because it has the highest area under the curve."
   ]
  },
  {
   "cell_type": "code",
   "execution_count": 6,
   "metadata": {},
   "outputs": [
    {
     "name": "stdout",
     "output_type": "stream",
     "text": [
      "precision: 0.0, recall: 0.0, f-measure: 0.0\n"
     ]
    }
   ],
   "source": [
    "values=[]\n",
    "for x in range(0,len(predictedValues)):\n",
    "    if (predictedValues[x]>=0.6):\n",
    "        values.append(1)\n",
    "    else:\n",
    "        values.append(0)\n",
    "\n",
    "tp=0\n",
    "tn=0\n",
    "fn=0\n",
    "fp=0\n",
    "for x in range(0,len(classX)):\n",
    "    if (classX[x]==1 and values[x]==1):\n",
    "        tp+=1\n",
    "    elif(classX[x]==0 and values[x]==0):\n",
    "        tn+=1\n",
    "    elif(classX[x]==1 and values[x]==0):\n",
    "        fn+=1\n",
    "    else:\n",
    "        fp+=1\n",
    "if (tp+fp!=0):\n",
    "    precision=(tp/(tp+fp))\n",
    "else: precision=0\n",
    "recall=(tp/(tp+fn))\n",
    "fMeasure=2*tp/(2*tp+fn+fp)\n",
    "print('precision: %0.1f, recall: %0.1f, f-measure: %0.1f'%(precision,recall,fMeasure))"
   ]
  }
 ],
 "metadata": {
  "kernelspec": {
   "display_name": "Python 3",
   "language": "python",
   "name": "python3"
  },
  "language_info": {
   "codemirror_mode": {
    "name": "ipython",
    "version": 3
   },
   "file_extension": ".py",
   "mimetype": "text/x-python",
   "name": "python",
   "nbconvert_exporter": "python",
   "pygments_lexer": "ipython3",
   "version": "3.6.3"
  }
 },
 "nbformat": 4,
 "nbformat_minor": 2
}
