{
 "cells": [
  {
   "cell_type": "code",
   "execution_count": 1,
   "metadata": {
    "collapsed": true
   },
   "outputs": [],
   "source": [
    "#import data into d\n",
    "import pandas as pd\n",
    "import csv\n",
    "with open('auto-mpg.data') as f:\n",
    "    reader = csv.reader(f,delimiter=\",\")\n",
    "    d = list(reader)\n",
    "    \n",
    "#DELETE ALL ROWS OF WHICH THE VALUE OF HORSEPOWER,WEIGHT,OR ACCELERATION IS UNKNOWN\n",
    "del(d[32])\n",
    "del(d[126-1])\n",
    "del(d[330-2])\n",
    "del(d[336-3])\n",
    "del(d[354-4])\n",
    "del(d[374-5])\n"
   ]
  },
  {
   "cell_type": "markdown",
   "metadata": {},
   "source": [
    "Linear regression equation 1 (W/O Acceleration): $$y=\\beta_0+\\beta_1(horsepower)+\\beta_2(weight)$$"
   ]
  },
  {
   "cell_type": "markdown",
   "metadata": {},
   "source": [
    "Linear regression equation 2 (With Acceleration) : $$y=\\beta_0+\\beta_1(horsepower)+\\beta_2(weight)+\\beta_3(acceleration)$$"
   ]
  },
  {
   "cell_type": "code",
   "execution_count": 2,
   "metadata": {
    "collapsed": true
   },
   "outputs": [],
   "source": [
    "randomMSE1=[]\n",
    "randomMSE2=[]\n",
    "kMSE1=[]\n",
    "kMSE2=[]\n",
    "looMSE1=[]\n",
    "looMSE2=[]"
   ]
  },
  {
   "cell_type": "code",
   "execution_count": 3,
   "metadata": {
    "collapsed": true
   },
   "outputs": [],
   "source": [
    "#split data 80/20 randomly, tested 10 times\n",
    "lengthOfSet=[]\n",
    "for i in range(0,10):\n",
    "    #split data into test (20%) and traning (80%)\n",
    "    from random import shuffle\n",
    "    total=[]\n",
    "    for x in range(0,len(d)):\n",
    "        #put all indeces into total\n",
    "        total.append(x)\n",
    "    #shuffle all of the indices\n",
    "    shuffle(total)\n",
    "    train=[]\n",
    "    for x in range(0,int(len(total)*0.8)):\n",
    "        #put first 80% of random indeces into train\n",
    "        train.append(total[x])\n",
    "    test=[]\n",
    "    for x in range(int(len(total)*0.8),len(total)):\n",
    "        #put last 20% of random indeces into test\n",
    "        test.append(total[x])\n",
    "    #equation 1\n",
    "    from sklearn import linear_model\n",
    "\n",
    "    reg1 = linear_model.LinearRegression()\n",
    "    trainingData1=[]\n",
    "    numbers1=[]\n",
    "    for x in range(0,len(train)):\n",
    "        trainingData1.append([d[train[x]][3],d[train[x]][4]])\n",
    "        numbers1.append(d[train[x]][0])\n",
    "    reg1.fit(trainingData1,numbers1)\n",
    "    first1=reg1.intercept_\n",
    "    second1=reg1.coef_[0]\n",
    "    third1=reg1.coef_[1]\n",
    "\n",
    "    #equation 2\n",
    "    from sklearn import linear_model\n",
    "\n",
    "    reg2 = linear_model.LinearRegression()\n",
    "    trainingData2=[]\n",
    "    numbers2=[]\n",
    "    for x in range(0,len(train)):\n",
    "        trainingData2.append([d[train[x]][3],d[train[x]][4],d[train[x]][5]])\n",
    "        numbers2.append(d[train[x]][0])\n",
    "    reg2.fit(trainingData2,numbers2)\n",
    "    first2=reg2.intercept_\n",
    "    second2=reg2.coef_[0]\n",
    "    third2=reg2.coef_[1]\n",
    "    fourth2=reg2.coef_[2]\n",
    "\n",
    "\n",
    "    predict1=[]\n",
    "    predict2=[]\n",
    "    actual=[]\n",
    "    for x in range(0,len(test)):\n",
    "        predict1.append((first1)+(second1*(float(d[test[x]][3])))+(third1*float((d[test[x]][4]))))\n",
    "        actual.append(d[test[x]][0])\n",
    "        predict2.append((first2)+(second2*(float(d[test[x]][3])))+(third2*float((d[test[x]][4]))+\n",
    "                                                                   (fourth2*float(d[test[x]][5]))))\n",
    "    sumOfSquares1=0.0\n",
    "    sumOfSquares2=0.0\n",
    "    for x in range(0,len(actual)):\n",
    "        sumOfSquares1+=(float(actual[x])-float(predict1[x]))**2\n",
    "        sumOfSquares2+=(float(actual[x])-float(predict2[x]))**2\n",
    "    randomMSE1.append(sumOfSquares1/len(actual))\n",
    "    randomMSE2.append(sumOfSquares2/len(actual))"
   ]
  },
  {
   "cell_type": "code",
   "execution_count": 4,
   "metadata": {
    "collapsed": true
   },
   "outputs": [],
   "source": [
    "#k fold 10 times\n",
    "for i in range(0,10):\n",
    "    total=[]\n",
    "    for x in range(0,len(d)):\n",
    "        #put all indeces into total\n",
    "        total.append(x)\n",
    "      \n",
    "    #puts data before and after 10*i - 10*i+1 into train\n",
    "    train=[]\n",
    "    #print(i,\"=====================\")\n",
    "    for x in range(0,int(len(total)*(i/10))):\n",
    "        train.append(total[x])\n",
    "    for x in range(int(len(total)*((i+1)/10)),len(total)):\n",
    "        train.append(total[x])\n",
    "    \n",
    "    #print(\"train: \",0,\"-\",int(len(total)*(i/10)),\" and \",int(len(total)*((i+1)/10)),\"-\",len(total))\n",
    "    #puts ith 10 percent into test\n",
    "    test=[]\n",
    "    for x in range(int(len(total)*(i/10)),int(len(total)*((i+1)/10))):\n",
    "        test.append(total[x])\n",
    "        \n",
    "    #print(\"test: \",int(len(total)*(i/10)),\"-\",int(len(total)*((i+1)/10)))\n",
    "    \n",
    "    #equation 1\n",
    "    from sklearn import linear_model\n",
    "\n",
    "    reg1 = linear_model.LinearRegression()\n",
    "    trainingData1=[]\n",
    "    numbers1=[]\n",
    "    for x in range(0,len(train)):\n",
    "        trainingData1.append([d[train[x]][3],d[train[x]][4]])\n",
    "        numbers1.append(d[train[x]][0])\n",
    "    reg1.fit(trainingData1,numbers1)\n",
    "    first1=reg1.intercept_\n",
    "    second1=reg1.coef_[0]\n",
    "    third1=reg1.coef_[1]\n",
    "\n",
    "    #equation 2\n",
    "    from sklearn import linear_model\n",
    "\n",
    "    reg2 = linear_model.LinearRegression()\n",
    "    trainingData2=[]\n",
    "    numbers2=[]\n",
    "    for x in range(0,len(train)):\n",
    "        trainingData2.append([d[train[x]][3],d[train[x]][4],d[train[x]][5]])\n",
    "        numbers2.append(d[train[x]][0])\n",
    "    reg2.fit(trainingData2,numbers2)\n",
    "    first2=reg2.intercept_\n",
    "    second2=reg2.coef_[0]\n",
    "    third2=reg2.coef_[1]\n",
    "    fourth2=reg2.coef_[2]\n",
    "\n",
    "\n",
    "    predict1=[]\n",
    "    predict2=[]\n",
    "    actual=[]\n",
    "    for x in range(0,len(test)):\n",
    "        predict1.append((first1)+(second1*(float(d[test[x]][3])))+(third1*float((d[test[x]][4]))))\n",
    "        actual.append(d[test[x]][0])\n",
    "        predict2.append((first2)+(second2*(float(d[test[x]][3])))+(third2*float((d[test[x]][4]))+\n",
    "                                                                   (fourth2*float(d[test[x]][5]))))\n",
    "    sumOfSquares1=0.0\n",
    "    sumOfSquares2=0.0\n",
    "    for x in range(0,len(actual)):\n",
    "        sumOfSquares1+=(float(actual[x])-float(predict1[x]))**2\n",
    "        sumOfSquares2+=(float(actual[x])-float(predict2[x]))**2\n",
    "    kMSE1.append(sumOfSquares1/len(actual))\n",
    "    kMSE2.append(sumOfSquares2/len(actual))"
   ]
  },
  {
   "cell_type": "code",
   "execution_count": 5,
   "metadata": {
    "collapsed": true
   },
   "outputs": [],
   "source": [
    "#LOOCV\n",
    "for i in range(0,len(d)):\n",
    "    \n",
    "    total=[]\n",
    "    for x in range(0,len(d)):\n",
    "        #put all indeces into total\n",
    "        total.append(x)\n",
    "\n",
    "    train=[]\n",
    "    for x in range(0,i):\n",
    "        train.append(total[x])\n",
    "    for x in range(i+1,len(total)):\n",
    "        train.append(total[x])\n",
    "        \n",
    "        \n",
    "    test=[]\n",
    "    test.append(i)\n",
    "    \n",
    "    #print(\"train: \",0,i,\" and \",i+1,len(total))\n",
    "    #print(\"test: \",i)\n",
    "    \n",
    "    \n",
    "    #equation 1\n",
    "    from sklearn import linear_model\n",
    "\n",
    "    reg1 = linear_model.LinearRegression()\n",
    "    trainingData1=[]\n",
    "    numbers1=[]\n",
    "    for x in range(0,len(train)):\n",
    "        trainingData1.append([d[train[x]][3],d[train[x]][4]])\n",
    "        numbers1.append(d[train[x]][0])\n",
    "    reg1.fit(trainingData1,numbers1)\n",
    "    first1=reg1.intercept_\n",
    "    second1=reg1.coef_[0]\n",
    "    third1=reg1.coef_[1]\n",
    "\n",
    "    #equation 2\n",
    "    from sklearn import linear_model\n",
    "\n",
    "    reg2 = linear_model.LinearRegression()\n",
    "    trainingData2=[]\n",
    "    numbers2=[]\n",
    "    for x in range(0,len(train)):\n",
    "        trainingData2.append([d[train[x]][3],d[train[x]][4],d[train[x]][5]])\n",
    "        numbers2.append(d[train[x]][0])\n",
    "    reg2.fit(trainingData2,numbers2)\n",
    "    first2=reg2.intercept_\n",
    "    second2=reg2.coef_[0]\n",
    "    third2=reg2.coef_[1]\n",
    "    fourth2=reg2.coef_[2]\n",
    "\n",
    "\n",
    "    predict1=[]\n",
    "    predict2=[]\n",
    "    actual=[]\n",
    "    for x in range(0,len(test)):\n",
    "        predict1.append((first1)+(second1*(float(d[test[x]][3])))+(third1*float((d[test[x]][4]))))\n",
    "        actual.append(d[test[x]][0])\n",
    "        predict2.append((first2)+(second2*(float(d[test[x]][3])))+(third2*float((d[test[x]][4]))+\n",
    "                                                                   (fourth2*float(d[test[x]][5]))))\n",
    "    sumOfSquares1=0.0\n",
    "    sumOfSquares2=0.0\n",
    "    for x in range(0,len(actual)):\n",
    "        sumOfSquares1+=(float(actual[x])-float(predict1[x]))**2\n",
    "        sumOfSquares2+=(float(actual[x])-float(predict2[x]))**2\n",
    "        looMSE1.append(sumOfSquares1/len(actual))\n",
    "        looMSE2.append(sumOfSquares2/len(actual))"
   ]
  },
  {
   "cell_type": "markdown",
   "metadata": {},
   "source": [
    "1) e) \n",
    "Random subsampling is taking a random portion of the data and using that as the test and the rest as training data. K-fold CV is splitting the data into k partitions and testing the data using a single partition and using the rest as training data. LOOCV is testing the data using a single data point and training with the rest. "
   ]
  },
  {
   "cell_type": "code",
   "execution_count": 6,
   "metadata": {
    "scrolled": true
   },
   "outputs": [
    {
     "data": {
      "image/png": "[encoded data removed]",
      "text/plain": [
       "<matplotlib.figure.Figure at 0x2270818e4e0>"
      ]
     },
     "metadata": {},
     "output_type": "display_data"
    }
   ],
   "source": [
    "import matplotlib.pyplot as plt\n",
    "import numpy as np\n",
    "data=[randomMSE1,randomMSE2]\n",
    "# Create a figure instance\n",
    "fig = plt.figure(1, figsize=(4, 4))\n",
    "\n",
    "# Create an axes instance\n",
    "ax = fig.add_subplot(111)\n",
    "\n",
    "# Create the boxplot\n",
    "bp = ax.boxplot(data)\n",
    "ax.set_xticklabels(['W/O Acceleration', 'With Acceleration'])\n",
    "ax.set_ylabel('MSE')\n",
    "ax.set_title('Random Subsampling')\n",
    "plt.show()"
   ]
  },
  {
   "cell_type": "code",
   "execution_count": 7,
   "metadata": {},
   "outputs": [
    {
     "data": {
      "image/png": "[encoded data removed]",
      "text/plain": [
       "<matplotlib.figure.Figure at 0x2270ab3d160>"
      ]
     },
     "metadata": {},
     "output_type": "display_data"
    }
   ],
   "source": [
    "import matplotlib.pyplot as plt\n",
    "import numpy as np\n",
    "data=[kMSE1,kMSE2]\n",
    "# Create a figure instance\n",
    "fig = plt.figure(1, figsize=(4, 4))\n",
    "\n",
    "# Create an axes instance\n",
    "ax = fig.add_subplot(111)\n",
    "\n",
    "# Create the boxplot\n",
    "bp = ax.boxplot(data)\n",
    "ax.set_xticklabels(['W/O Acceleration', 'With Acceleration'])\n",
    "ax.set_ylabel('MSE')\n",
    "ax.set_title('K-Fold')\n",
    "plt.show()"
   ]
  },
  {
   "cell_type": "markdown",
   "metadata": {},
   "source": [
    "1) h) I would choose the model without acceleration. The models are near identical in results, according to the boxplots, so factoring in the acceleration does not affect the results, so should not be included in the model."
   ]
  }
 ],
 "metadata": {
  "kernelspec": {
   "display_name": "Python 3",
   "language": "python",
   "name": "python3"
  },
  "language_info": {
   "codemirror_mode": {
    "name": "ipython",
    "version": 3
   },
   "file_extension": ".py",
   "mimetype": "text/x-python",
   "name": "python",
   "nbconvert_exporter": "python",
   "pygments_lexer": "ipython3",
   "version": "3.6.3"
  }
 },
 "nbformat": 4,
 "nbformat_minor": 2
}
