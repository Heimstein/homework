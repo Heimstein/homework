{
 "cells": [
  {
   "cell_type": "code",
   "execution_count": 1,
   "metadata": {
    "collapsed": true
   },
   "outputs": [],
   "source": [
    "import sys\n",
    "import math\n",
    "def factorize(n):\n",
    "    def isPrime(n):\n",
    "        return not [x for x in range(2,int(math.sqrt(n))+1)\n",
    "                    if n%x == 0]\n",
    "    primes = []\n",
    "    candidates = range(2,int(n+1))\n",
    "    candidate = 2\n",
    "    while not primes and candidate in candidates:\n",
    "        if n%candidate == 0 and isPrime(candidate):\n",
    "            primes = primes + [candidate] + factorize(n/candidate)\n",
    "        candidate += 1            \n",
    "    return primes\n",
    "def condense(L):\n",
    "  prime,count,list=0,0,[]\n",
    "  for x in L:\n",
    "    if x == prime:\n",
    "      count = count + 1\n",
    "    else:\n",
    "      if prime != 0:\n",
    "        list = list + [str(prime) + '^' + str(count)]\n",
    "      prime,count=x,1\n",
    "  list = list + [str(prime) + '^' + str(count)]\n",
    "  return list"
   ]
  },
  {
   "cell_type": "code",
   "execution_count": null,
   "metadata": {},
   "outputs": [],
   "source": [
    "#GET ALL FACTORS\n",
    "listOfNum = []\n",
    "totalListOfNum=[]\n",
    "for x in range(0,1000):\n",
    "    totalListOfNum.append(factorize(x+38168363))\n",
    "    listOfNum.append(condense(totalListOfNum[x]))\n",
    "    \n",
    "for x in range(0,1000):\n",
    "    print(x+38168363,listOfNum[x])"
   ]
  },
  {
   "cell_type": "code",
   "execution_count": 3,
   "metadata": {
    "collapsed": true
   },
   "outputs": [],
   "source": [
    "#GET NUMBER OF FACTORS\n",
    "numFactors=[]\n",
    "for x in range(0,7):\n",
    "    numFactors.append(0)\n",
    "for x in range(0,1000):\n",
    "    numFactors[len(listOfNum[x])-1]=numFactors[len(listOfNum[x])-1]+1"
   ]
  },
  {
   "cell_type": "code",
   "execution_count": 18,
   "metadata": {},
   "outputs": [
    {
     "name": "stdout",
     "output_type": "stream",
     "text": [
      "Number of Primes:  69\n",
      "Expected number of Primes:  57.28186997478309\n"
     ]
    }
   ],
   "source": [
    "#Number 1\n",
    "\n",
    "import numpy as np\n",
    "total=[]\n",
    "for x in range(0,7):\n",
    "    for y in range(0,numFactors[x]):\n",
    "        total.append(x+1)\n",
    "print(\"Number of Primes: \",numFactors[0])\n",
    "print(\"Expected number of Primes: \",1000/(math.log(38168863)))"
   ]
  },
  {
   "cell_type": "code",
   "execution_count": 5,
   "metadata": {},
   "outputs": [
    {
     "name": "stdout",
     "output_type": "stream",
     "text": [
      "There are  0  squares from 38168363 to 38169363\n",
      "Expected number of Squares:  0.08093109059199197\n"
     ]
    }
   ],
   "source": [
    "#Number 2\n",
    "import math\n",
    "numSquares=0\n",
    "for x in range(0,1000):\n",
    "    if(math.sqrt(x+38168363)==int(math.sqrt(x+38168363))):\n",
    "        numSquares+=1\n",
    "print(\"There are \",numSquares,\" squares from 38168363 to 38169363\")\n",
    "print(\"Expected number of Squares: \",1000/(2*math.sqrt(38168863)))"
   ]
  },
  {
   "cell_type": "code",
   "execution_count": 17,
   "metadata": {},
   "outputs": [
    {
     "name": "stdout",
     "output_type": "stream",
     "text": [
      "69  numbers have  1  factors\n",
      "212  numbers have  2  factors\n",
      "346  numbers have  3  factors\n",
      "259  numbers have  4  factors\n",
      "104  numbers have  5  factors\n",
      "9  numbers have  6  factors\n",
      "1  numbers have  7  factors\n",
      "Mean:  3.148\n",
      "standard Deviation:  1.1126976229\n"
     ]
    }
   ],
   "source": [
    "#Number 3\n",
    "for x in range(0,len(numFactors)):\n",
    "    print(numFactors[x],\" numbers have \",x+1,\" factors\")\n",
    "print(\"Mean: \",np.mean(total))\n",
    "print(\"standard Deviation: \",np.std(total))"
   ]
  },
  {
   "cell_type": "code",
   "execution_count": 39,
   "metadata": {},
   "outputs": [
    {
     "name": "stdout",
     "output_type": "stream",
     "text": [
      "Number of numbers with largest prime over n^(3/4): 324\n",
      "Number of numbers with largest prime over n^(1/2): 725\n",
      "Number of numbers with largest prime over n^(1/3): 954\n"
     ]
    }
   ],
   "source": [
    "#number 4a\n",
    "largest=[]\n",
    "for x in range(0,len(totalListOfNum)):\n",
    "    largest.append(totalListOfNum[x][len(totalListOfNum[x])-1])\n",
    "threeFourths=0\n",
    "oneHalf=0\n",
    "oneThird=0\n",
    "for x in range(len(largest)):\n",
    "    if ((x+38168363)**(3/4)<=largest[x]):\n",
    "        threeFourths+=1\n",
    "    if((x+38168363)**(1/2)<=largest[x]):\n",
    "        oneHalf+=1\n",
    "    if((x+38168363)**(1/3)<=largest[x]):\n",
    "        oneThird+=1\n",
    "print(\"Number of numbers with largest prime over n^(3/4):\",threeFourths)\n",
    "print(\"Number of numbers with largest prime over n^(1/2):\",oneHalf)\n",
    "print(\"Number of numbers with largest prime over n^(1/3):\",oneThird)"
   ]
  },
  {
   "cell_type": "code",
   "execution_count": 37,
   "metadata": {},
   "outputs": [
    {
     "name": "stdout",
     "output_type": "stream",
     "text": [
      "Mean of the log(p)/log(n):  0.64579610208\n",
      "Standard Deviation of the log(p)/log(n):  0.203148841787\n"
     ]
    }
   ],
   "source": [
    "#4b\n",
    "comparison=[]\n",
    "for x in range(0,len(largest)):\n",
    "    comparison.append(math.log(largest[x])/math.log(x+38168363))\n",
    "print(\"Mean of the log(p)/log(n): \",np.mean(comparison))\n",
    "print(\"Standard Deviation of the log(p)/log(n): \",np.std(comparison))"
   ]
  }
 ],
 "metadata": {
  "kernelspec": {
   "display_name": "Python 3",
   "language": "python",
   "name": "python3"
  },
  "language_info": {
   "codemirror_mode": {
    "name": "ipython",
    "version": 3
   },
   "file_extension": ".py",
   "mimetype": "text/x-python",
   "name": "python",
   "nbconvert_exporter": "python",
   "pygments_lexer": "ipython3",
   "version": "3.6.3"
  }
 },
 "nbformat": 4,
 "nbformat_minor": 2
}
