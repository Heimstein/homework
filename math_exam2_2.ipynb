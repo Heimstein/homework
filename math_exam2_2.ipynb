{
 "cells": [
  {
   "cell_type": "code",
   "execution_count": 1,
   "metadata": {
    "collapsed": true
   },
   "outputs": [],
   "source": [
    "import math\n",
    "def fastPower(base, exp, mod):\n",
    "    if exp == 0:\n",
    "        x = 1\n",
    "    else:\n",
    "        half = fastPower(base, exp // 2, mod)  # just / in Python 2\n",
    "        x = half * half\n",
    "        if exp % 2 == 1:\n",
    "            x *= base\n",
    "    return x % mod"
   ]
  },
  {
   "cell_type": "code",
   "execution_count": 23,
   "metadata": {},
   "outputs": [
    {
     "name": "stdout",
     "output_type": "stream",
     "text": [
      "0\n",
      "[0, 0, 0, 0, 0, 0, 0, 0, 0, 0]\n",
      "1\n",
      "[1, 1, 1, 1, 1, 1, 1, 1, 1, 1]\n",
      "2\n",
      "[890592, 1373652, 1, 1, 1, 1, 1, 1, 1, 1]\n",
      "3\n",
      "[1, 1, 1, 1, 1, 1, 1, 1, 1, 1]\n",
      "4\n",
      "[1373652, 1, 1, 1, 1, 1, 1, 1, 1, 1]\n",
      "5\n",
      "[1199564, 73782, 1370338, 1, 1, 1, 1, 1, 1, 1]\n"
     ]
    }
   ],
   "source": [
    "num=1373653\n",
    "b=0\n",
    "for x in range(0,6):\n",
    "    p=[]\n",
    "    prev=0\n",
    "    for y in range(0,10):\n",
    "        place=fastPower(x,2**y*343413,num)\n",
    "        p.append(place)    \n",
    "    print(x)\n",
    "    print(p)"
   ]
  },
  {
   "cell_type": "code",
   "execution_count": 26,
   "metadata": {},
   "outputs": [
    {
     "name": "stdout",
     "output_type": "stream",
     "text": [
      "0\n",
      "[0, 0, 0, 0, 0, 0, 0, 0, 0, 0]\n",
      "1\n",
      "[1, 1, 1, 1, 1, 1, 1, 1, 1, 1]\n",
      "2\n",
      "[263, 166, 67, 1, 1, 1, 1, 1, 1, 1]\n"
     ]
    }
   ],
   "source": [
    "num=561\n",
    "b=0\n",
    "for x in range(0,3):\n",
    "    p=[]\n",
    "    for y in range(0,10):\n",
    "        place=fastPower(x,2**y*35,num)\n",
    "        p.append(place)\n",
    "        \n",
    "    print(x)\n",
    "    print(p)"
   ]
  }
 ],
 "metadata": {
  "kernelspec": {
   "display_name": "Python 3",
   "language": "python",
   "name": "python3"
  },
  "language_info": {
   "codemirror_mode": {
    "name": "ipython",
    "version": 3
   },
   "file_extension": ".py",
   "mimetype": "text/x-python",
   "name": "python",
   "nbconvert_exporter": "python",
   "pygments_lexer": "ipython3",
   "version": "3.6.3"
  }
 },
 "nbformat": 4,
 "nbformat_minor": 2
}
