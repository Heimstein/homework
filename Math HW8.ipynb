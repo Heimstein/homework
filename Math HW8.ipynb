{
 "cells": [
  {
   "cell_type": "code",
   "execution_count": null,
   "metadata": {},
   "outputs": [],
   "source": [
    "#fermats\n",
    "num=13019*3*3*5*7\n",
    "x=int(num**(1/2))+1\n",
    "b=0\n",
    "difference=0\n",
    "print('x 2x+1 x^2-n')\n",
    "while (b==0):\n",
    "    difference=x**2-num\n",
    "    print(x,2*x+1,difference)\n",
    "    sqrt=difference**(1/2)\n",
    "    if (sqrt==int(sqrt)):\n",
    "        b=1\n",
    "    x+=1\n",
    "difference=difference**(1/2)\n",
    "y = (num+difference**2)**(1/2)\n",
    "print('factors: ',y-difference,y+difference)"
   ]
  },
  {
   "cell_type": "code",
   "execution_count": null,
   "metadata": {
    "collapsed": true
   },
   "outputs": [],
   "source": [
    "def fastPower(base, exp, mod):\n",
    "    if exp == 0:\n",
    "        x = 1\n",
    "    else:\n",
    "        half = fastPower(base, exp // 2, mod)  # just / in Python 2\n",
    "        x = half * half\n",
    "        if exp % 2 == 1:\n",
    "            x *= base\n",
    "    return x % mod"
   ]
  },
  {
   "cell_type": "code",
   "execution_count": null,
   "metadata": {},
   "outputs": [],
   "source": [
    "#p-1 method\n",
    "import math\n",
    "k=1\n",
    "b=0\n",
    "power=0\n",
    "great=0\n",
    "print('k 2^k!-1 gcd(2^k!-1,num)')\n",
    "while (b==0):\n",
    "    power=fastPower(2,math.factorial(k),num)\n",
    "    if (power-1<0):\n",
    "        power=num\n",
    "    great=math.gcd(power-1,num)\n",
    "    print(k,power-1,great)\n",
    "    if (great>1):\n",
    "        b=1\n",
    "    k+=1\n",
    "print('factors: ', great,num/great)"
   ]
  },
  {
   "cell_type": "code",
   "execution_count": null,
   "metadata": {},
   "outputs": [],
   "source": [
    "#rho method\n",
    "x=[1]\n",
    "k=1\n",
    "b=0\n",
    "print('x:',x[0])\n",
    "great=0\n",
    "while (b==0):\n",
    "    x.append(fastPower(x[k-1],2,num)+1)\n",
    "    print('x:',x[k])\n",
    "    if (k%2==0):\n",
    "        great=math.gcd(x[k]-x[int(k/2)],num)\n",
    "        print('x[',k,']-x[,',int(k/2),']','=',x[k],'-',x[int(k/2)],'=',x[k]-x[int(k/2)])\n",
    "        print('GCD:',great)\n",
    "        if (great>1):\n",
    "            b=1\n",
    "    k+=1\n",
    "print('factors:',great,num/great)"
   ]
  },
  {
   "cell_type": "code",
   "execution_count": null,
   "metadata": {
    "collapsed": true
   },
   "outputs": [],
   "source": []
  },
  {
   "cell_type": "code",
   "execution_count": null,
   "metadata": {
    "collapsed": true
   },
   "outputs": [],
   "source": []
  }
 ],
 "metadata": {
  "kernelspec": {
   "display_name": "Python 3",
   "language": "python",
   "name": "python3"
  },
  "language_info": {
   "codemirror_mode": {
    "name": "ipython",
    "version": 3
   },
   "file_extension": ".py",
   "mimetype": "text/x-python",
   "name": "python",
   "nbconvert_exporter": "python",
   "pygments_lexer": "ipython3",
   "version": "3.6.3"
  }
 },
 "nbformat": 4,
 "nbformat_minor": 2
}
