{
 "cells": [
  {
   "cell_type": "code",
   "execution_count": 1,
   "metadata": {
    "collapsed": true
   },
   "outputs": [],
   "source": [
    "#import data into d\n",
    "import pandas as pd\n",
    "import csv\n",
    "with open('auto-mpg.data') as f:\n",
    "    reader = csv.reader(f,delimiter=\",\")\n",
    "    d = list(reader)\n",
    "    \n",
    "#DELETE ALL ROWS OF WHICH THE VALUE OF HORSEPOWER,WEIGHT,OR ACCELERATION IS UNKNOWN\n",
    "del(d[32])\n",
    "del(d[126-1])\n",
    "del(d[330-2])\n",
    "del(d[336-3])\n",
    "del(d[354-4])\n",
    "del(d[374-5])\n"
   ]
  },
  {
   "cell_type": "code",
   "execution_count": 2,
   "metadata": {
    "collapsed": true
   },
   "outputs": [],
   "source": [
    "#split data into test (20%) and traning (80%)\n",
    "from random import shuffle\n",
    "total=[]\n",
    "for x in range(0,len(d)):\n",
    "    #put all indeces into total\n",
    "    total.append(x)\n",
    "#shuffle all of the indices\n",
    "shuffle(total)\n",
    "train=[]\n",
    "for x in range(0,int(len(total)*0.8)):\n",
    "    #put first 80% of random indeces into train\n",
    "    train.append(total[x])\n",
    "test=[]\n",
    "for x in range(int(len(total)*0.8),len(total)):\n",
    "    #put last 20% of random indeces into test\n",
    "    test.append(total[x])"
   ]
  },
  {
   "cell_type": "markdown",
   "metadata": {},
   "source": [
    "Linear regression equation: $$y=\\beta_0+\\beta_1(horsepower)+\\beta_2(weight)+\\beta_3(acceleration)$$"
   ]
  },
  {
   "cell_type": "code",
   "execution_count": 3,
   "metadata": {},
   "outputs": [
    {
     "data": {
      "text/plain": [
       "LinearRegression(copy_X=True, fit_intercept=True, n_jobs=1, normalize=False)"
      ]
     },
     "execution_count": 3,
     "metadata": {},
     "output_type": "execute_result"
    }
   ],
   "source": [
    "from sklearn import linear_model\n",
    "\n",
    "reg = linear_model.LinearRegression()\n",
    "trainingData=[]\n",
    "numbers=[]\n",
    "for x in range(0,len(train)):\n",
    "    trainingData.append([d[train[x]][3],d[train[x]][4],d[train[x]][5]])\n",
    "    numbers.append(d[train[x]][0])\n",
    "reg.fit(trainingData,numbers)"
   ]
  },
  {
   "cell_type": "code",
   "execution_count": 4,
   "metadata": {},
   "outputs": [
    {
     "name": "stdout",
     "output_type": "stream",
     "text": [
      "Solved Linear regression:\n",
      "y= 47.5902278716 + -0.055480181753 *horsepower+ -0.00566309449902 *weight+ -0.055480181753 *acceleration\n"
     ]
    }
   ],
   "source": [
    "print(\"Solved Linear regression:\")\n",
    "print(\"y=\",reg.intercept_,\"+\",reg.coef_[0],\"*horsepower+\",reg.coef_[1],\"*weight+\",reg.coef_[0],\"*acceleration\")"
   ]
  },
  {
   "cell_type": "code",
   "execution_count": 5,
   "metadata": {},
   "outputs": [],
   "source": [
    "first=reg.intercept_\n",
    "second=reg.coef_[0]\n",
    "third=reg.coef_[1]\n",
    "fourth=reg.coef_[2]"
   ]
  },
  {
   "cell_type": "code",
   "execution_count": 6,
   "metadata": {},
   "outputs": [],
   "source": [
    "predict=[]\n",
    "actual=[]\n",
    "for x in range(0,len(test)):\n",
    "    predict.append((first)+(second*(float(d[test[x]][3])))+(third*float((d[test[x]][4]))+(fourth*float(d[test[x]][5]))))\n",
    "    actual.append(d[test[x]][0])"
   ]
  },
  {
   "cell_type": "code",
   "execution_count": 12,
   "metadata": {},
   "outputs": [
    {
     "name": "stdout",
     "output_type": "stream",
     "text": [
      "Sum of Squared errors:  964.6299832622054\n",
      "Sum of Squared From Previous: 1071.109417797276\n"
     ]
    }
   ],
   "source": [
    "#Calculated sum of squared errors\n",
    "sumOfSquares=0.0\n",
    "for x in range(0,len(actual)):\n",
    "    sumOfSquares+=(float(actual[x])-float(predict[x]))**2\n",
    "print(\"Sum of Squared errors: \",sumOfSquares)\n",
    "print(\"Sum of Squared From Previous: 1071.109417797276\")"
   ]
  }
 ],
 "metadata": {
  "kernelspec": {
   "display_name": "Python 3",
   "language": "python",
   "name": "python3"
  },
  "language_info": {
   "codemirror_mode": {
    "name": "ipython",
    "version": 3
   },
   "file_extension": ".py",
   "mimetype": "text/x-python",
   "name": "python",
   "nbconvert_exporter": "python",
   "pygments_lexer": "ipython3",
   "version": "3.6.3"
  }
 },
 "nbformat": 4,
 "nbformat_minor": 2
}
