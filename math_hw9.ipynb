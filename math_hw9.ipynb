{
 "cells": [
  {
   "cell_type": "code",
   "execution_count": 1,
   "metadata": {
    "collapsed": true
   },
   "outputs": [],
   "source": [
    "def fastPowerMod(base, exp, mod):\n",
    "    if exp == 0:\n",
    "        x = 1\n",
    "    else:\n",
    "        half = fastPowerMod(base, exp // 2, mod)  # just / in Python 2\n",
    "        x = half * half\n",
    "        if exp % 2 == 1:\n",
    "            x *= base\n",
    "    return x % mod"
   ]
  },
  {
   "cell_type": "code",
   "execution_count": 2,
   "metadata": {
    "collapsed": true
   },
   "outputs": [],
   "source": [
    "def fastPower(base, exp):\n",
    "    if exp == 0:\n",
    "        x = 1\n",
    "    else:\n",
    "        half = fastPower(base, exp // 2, mod)  # just / in Python 2\n",
    "        x = half * half\n",
    "        if exp % 2 == 1:\n",
    "            x *= base\n",
    "    return x"
   ]
  },
  {
   "cell_type": "code",
   "execution_count": 3,
   "metadata": {
    "collapsed": true
   },
   "outputs": [],
   "source": [
    "def prime_factors(n):\n",
    "    i = 2\n",
    "    factors = []\n",
    "    while i * i <= n:\n",
    "        if n % i:\n",
    "            i += 1\n",
    "        else:\n",
    "            n //= i\n",
    "            factors.append(i)\n",
    "    if n > 1:\n",
    "        factors.append(n)\n",
    "    return factors"
   ]
  },
  {
   "cell_type": "code",
   "execution_count": 4,
   "metadata": {},
   "outputs": [
    {
     "name": "stdout",
     "output_type": "stream",
     "text": [
      "a n\n",
      "3 31\n",
      "14 3001\n",
      "14 30000001\n",
      "29 30000000001\n",
      "2 30000000000000000000000000001\n",
      "2 3000000000000000000000000000000000001\n",
      "2 30000000000000000000000000000000000000000000000000000000000000000001\n",
      "2 3000000000000000000000000000000000000000000000000000000000000000000000000000000001\n",
      "done\n"
     ]
    }
   ],
   "source": [
    "print('a','n')\n",
    "for x in range(0,100):\n",
    "    num=3*10**x+1\n",
    "    for y in range(2,100):\n",
    "        if (fastPowerMod(y,num-1,num)==1):\n",
    "            true=0\n",
    "            for z in list(set(prime_factors(num-1))):\n",
    "                if (fastPowerMod(y,(num-1)/z,num)==1):\n",
    "                    true=1\n",
    "            if (true==0):\n",
    "                print(y,num)\n",
    "                break\n",
    "print('done')"
   ]
  },
  {
   "cell_type": "code",
   "execution_count": null,
   "metadata": {
    "collapsed": true
   },
   "outputs": [],
   "source": []
  }
 ],
 "metadata": {
  "kernelspec": {
   "display_name": "Python 3",
   "language": "python",
   "name": "python3"
  },
  "language_info": {
   "codemirror_mode": {
    "name": "ipython",
    "version": 3
   },
   "file_extension": ".py",
   "mimetype": "text/x-python",
   "name": "python",
   "nbconvert_exporter": "python",
   "pygments_lexer": "ipython3",
   "version": "3.6.3"
  }
 },
 "nbformat": 4,
 "nbformat_minor": 2
}
